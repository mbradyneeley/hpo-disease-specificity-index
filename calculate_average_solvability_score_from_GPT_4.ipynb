{
 "cells": [
  {
   "cell_type": "code",
   "execution_count": 104,
   "metadata": {},
   "outputs": [],
   "source": [
    "import sys\n",
    "import os\n",
    "import glob\n",
    "import pandas as pd"
   ]
  },
  {
   "cell_type": "code",
   "execution_count": 105,
   "metadata": {},
   "outputs": [],
   "source": [
    "def read_files_into_dataframe(file):\n",
    "    data = []\n",
    "    with open(file, 'r') as file:\n",
    "        lines = file.readlines()\n",
    "        for line in lines:\n",
    "            columns = line.strip().split()\n",
    "            if len(columns) <= 2:\n",
    "                data.append(columns)\n",
    "    df = pd.DataFrame(data, columns=[\"filename\", \"solvability_score\"])  # Add column names\n",
    "    return df"
   ]
  },
  {
   "cell_type": "code",
   "execution_count": 106,
   "metadata": {},
   "outputs": [],
   "source": [
    "# Read files into dataframes\n",
    "directory = \"/mnt/atlas_local/guantong/home/New_manuscript/subset_patient_cases_by_difficulty/difficulty_subsets\"\n",
    "file_pattern = \"*temp_0.5.txt\"\n",
    "file_paths = glob.glob(os.path.join(directory, file_pattern))\n",
    "\n",
    "BG = read_files_into_dataframe(file_paths[0])\n",
    "UDN = read_files_into_dataframe(file_paths[1])\n",
    "DDD = read_files_into_dataframe(file_paths[2])"
   ]
  },
  {
   "cell_type": "code",
   "execution_count": 107,
   "metadata": {},
   "outputs": [],
   "source": [
    "def calculate_mean_score(df):\n",
    "    df[\"solvability_score\"] = df[\"solvability_score\"].astype(float)\n",
    "    grouped_df = df.groupby(\"filename\")[\"solvability_score\"].mean().reset_index()\n",
    "    # TODO something going wrong here in this function with mean\n",
    "    return grouped_df"
   ]
  },
  {
   "cell_type": "code",
   "execution_count": 108,
   "metadata": {},
   "outputs": [],
   "source": [
    "BG_mean = calculate_mean_score(BG)\n",
    "UDN_mean = calculate_mean_score(UDN)\n",
    "DDD_mean = calculate_mean_score(DDD)"
   ]
  },
  {
   "cell_type": "code",
   "execution_count": 112,
   "metadata": {},
   "outputs": [],
   "source": [
    "def bin_solvability_score(df):\n",
    "    # Define bins and labels\n",
    "    bins = [0, 33, 66, 100]\n",
    "    labels = ['hard', 'medium', 'easy']\n",
    "    df['solvability_score'] = df['solvability_score'].astype(float)\n",
    "    # Use pd.cut to bin the 'solvability_score' column\n",
    "    df['solvability_score_binned'] = pd.cut(df['solvability_score'], bins=bins, labels=labels, include_lowest=True, right=False)\n",
    "    \n",
    "    # Drop rows with NaN values in 'solvability_score_binned' column\n",
    "    df = df.dropna(subset=['solvability_score_binned'])\n",
    "    \n",
    "    return df\n"
   ]
  },
  {
   "cell_type": "code",
   "execution_count": 113,
   "metadata": {},
   "outputs": [],
   "source": [
    "BG_binned = bin_solvability_score(BG_mean)\n",
    "UDN_binned = bin_solvability_score(UDN_mean)\n",
    "DDD_binned = bin_solvability_score(DDD_mean)"
   ]
  },
  {
   "cell_type": "code",
   "execution_count": 117,
   "metadata": {},
   "outputs": [],
   "source": [
    "# write to csv\n",
    "BG_binned.to_csv(\"BG_binned.csv\", index=False)\n",
    "UDN_binned.to_csv(\"UDN_binned.csv\", index=False)\n",
    "DDD_binned.to_csv(\"DDD_binned.csv\", index=False)"
   ]
  },
  {
   "cell_type": "code",
   "execution_count": null,
   "metadata": {},
   "outputs": [],
   "source": []
  }
 ],
 "metadata": {
  "kernelspec": {
   "display_name": "simple_llm",
   "language": "python",
   "name": "python3"
  },
  "language_info": {
   "codemirror_mode": {
    "name": "ipython",
    "version": 3
   },
   "file_extension": ".py",
   "mimetype": "text/x-python",
   "name": "python",
   "nbconvert_exporter": "python",
   "pygments_lexer": "ipython3",
   "version": "3.8.0"
  }
 },
 "nbformat": 4,
 "nbformat_minor": 2
}
